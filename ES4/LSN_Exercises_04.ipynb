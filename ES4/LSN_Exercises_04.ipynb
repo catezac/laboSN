{
 "cells": [
  {
   "cell_type": "markdown",
   "metadata": {},
   "source": [
    "# <span style=\"color:green\"> Numerical Simulation Laboratory (NSL) </span>\n",
    "## <span style=\"color:blue\">  Numerical exercises 4</span>"
   ]
  },
  {
   "cell_type": "markdown",
   "metadata": {},
   "source": [
    "### Exercise 04.1\n",
    "\n",
    "In Statistical Mechanics the Maxwell–Boltzmann distribution (<a href=\"https://en.wikipedia.org/wiki/Maxwell%E2%80%93Boltzmann_distribution\" target=\"_blank\">Link Wikipedia</a>) is a probability distribution used for describing particle speeds in idealized gases. However, rarefied gases at ordinary temperatures behave very nearly like an ideal gas and the Maxwell–Boltzmann speed distribution is an excellent approximation for such gases. For a 3D system its formula is:\n",
    "$$p(v,T) = \\left( \\frac{m}{2\\pi k_B T} \\right)^{3/2} 4\\pi v^2 e^{-\\frac{m v^2}{2 k_B T}}$$\n",
    "\n",
    "By using LJ reduced units (Lenght: $\\sigma$; Energy: $\\epsilon$; Mass: the mass, $m$, of the particles; Temperature: $\\epsilon/k_B$; velocity: $\\sqrt{\\epsilon/m}$) its form becomes:\n",
    "$$p(v^*,T^*) = \\frac{1}{(2\\pi T^*)^{3/2}} 4\\pi (v^*)^2 e^{-\\frac{(v^*)^2}{2 T^*}}$$\n",
    "\n",
    "The NSL_SIMULATOR code already computes the total (internal) energy per particle, $E/N$, the potential energy per particle, $U/N$, the kinetic energy per particle, $K/N$, the temperature, $T$, and the pressure, $P$.\n",
    "\n",
    "<span style=\"color:red\">Include the calculation of the Maxwell–Boltzmann distribution, $p(v^*,T^*)$, inside your Molecular Dynamics code by using data blocking to obtain single block averages, progressive average values and progressive uncertainties for $p(v^*,T^*)$.</span>\n",
    "\n",
    "Remember that, the Maxwell–Boltzmann distribution, $p(v^*,T^*)$, can be approximately computed as a **normalized histogram** on an appropriate interval $\\left[ 0, v_{max}\\right]$ and chosing the number of bins into which you want to divide this interval."
   ]
  },
  {
   "cell_type": "markdown",
   "metadata": {},
   "source": [
    "Note:\n",
    "- il data blocking c'è gia nel codice. dal codice escono le medie di singolo blocco, la media progressiva e l'incertezza progressiva\n",
    "- la distribuzione di boltzman può essere calolata come un istogramma, bisogna scegliere un intervallo tra 0 e una vel massima e il nuemro di bin in cui suddividere l'intervallo. poi alla fine bisogna normalizzare l'istogramma\n",
    "- la proprietà che dobbiamo aggiungere è un vettore perchè dobbiamo costruire un istogramma, quindi ogni elemento è un bin\n",
    "\n",
    "quindi in questo esercizio bisogna includere il calcolo della probabilità nel codice\n",
    "\n",
    "appunti sul codice NSL simulator code:\n",
    "- è tutto scritto in unita di misura naturali, tranne la config iniziale che in unita del lato\n",
    "- inizialize_velocities: permette di calcolare la posizione al tempo t-dt per il prio passo del Verlet. se inizializzo le velocità con tre gaussiane nelle tre direzioni non va bene perchè c'è un moto dideriva che deo togliere, quindi faccio un ciclo per togliere e far si che il momento totale sia nullo. poi però devo rendere la distribuzione compatibile con la temperatura, nell'ultimo ciclo riscalo le velocità in modo che la temperatura sia quella desiderata. poi uso le velocita per calcolare le velocita al tempo t-dt.\n",
    "- inizialize_proprierties: legge il file di input in cui dice quali proprietà calcolare\n",
    "- in armadillo dot(vettore, vettore) è il prodotto scalare\n",
    "- Force: if(dr < _r_cut) è il cut off del potenziale\n",
    "- dopo che ho fatto lo step devo misuare le proprietà: measure()\n",
    "- quello che dobbiamo inserire è un vettore di proprietà, quindi nello stamparlo è un po' diverso rispetto alle altre proprietà. Attenzione a quale vettore di velocità dare al bin i-esimo, sulle ascisse mettiamo il valor medio, poi delta(v)+delta(v)/2 e cosi via\n",
    "- write_configuration(): scrive le configurazioni in unità del lato, perchè poi servono per ripartire, in formato xyz. \n",
    "\n",
    "\n"
   ]
  },
  {
   "cell_type": "markdown",
   "metadata": {},
   "source": [
    "### Exercise 04.2\n",
    "\n",
    "By means of your upgraded code, <span style=\"color:red\">perform MD simulations via a Lennard-Jones model</span> ( e.g. Argon parameters: $\\sigma = 0.34$ nm, $\\epsilon/k_B = 120$ K, $m=39.948$ amu) in the following conditions:\n",
    "- gas phase: $\\rho^\\star = 0.05$, $T^\\star \\sim  2.0$ (cut-off radius: $r_c = 5.0$)\n",
    "\n",
    "starting from a <span style=\"color:red\">**very low entropic** initial configuration</span>:\n",
    "1. initial **particle positions**: <span style=\"color:red\">fcc crystal occupying half of the simulation box in each dimension</span>\n",
    "2. initial **velocity distribution**:  $p_\\delta(v^*,T^*) = \\delta\\left( v^* - v_{T^*}\\right)$ where $v_{T^*}$ is suitably connected to $T^*$. For example, this condition could be obtained by imposing that every particle has an initial velocity $\\pm v_{T^*}$ for **only one** of its velocity components: $v_x$, $v_y$, $v_z$.\n",
    "\n",
    "The goal is to show that, by evolving such initial condition via a Molecular Dynamics simulation, the velocity distribution tends to approximate the Maxwell–Boltzmann distribution.\n",
    "\n",
    "- **Produce some pictures that show this convergence**\n",
    "- The evolution of the system moves towards the increasing of entropy (more homeogeneous configuration of particles)? What would you find by changing the direction of time? Comment on these aspects in your jupyter-notebook\n",
    "\n",
    "**Note that** the MD simulation will conserve the total energy; thus the kinetic energy and the temperature are not constant of motion ... the comparison should be done with $p(v^*,T^*_{\\rm eff})$ where $T^*_{\\rm eff}$ is the effective temperature obtained once the system has been equilibrated."
   ]
  },
  {
   "cell_type": "markdown",
   "metadata": {},
   "source": [
    "Note: \n",
    "- non bisogna usare i dati dell'argon, noi dobbiamo lavorare solo con le unità ridotte, possiamo inserire i dati dell'argon solo per curiosità\n",
    "- partire la smulazione da una configurazione a bassa entropia (che è una coa che non capita mai), ma lui equilibra comunque verso una distribuzione di maxwell boltzaman\n",
    "- per creare a bassa entropia: 1. facciamo partire le particelle su un reticolo cristallino che occupa meta della scatola in ogni direzione. nell'evoluzione vediamo che va a occupare tutta la scatola. 2. per le velocità usiamo una delta di dirac, il valore della velocita dipende dalla temperatura. Dato che 108 è divisibile per 6 si ha momento totale iniziale pari a zero se si usa il modo di distribuire le velocità scritto sopra.\n",
    "- dato che MD è nel microcanonico conserva l'energia totale, non quella cinetica. dato che la temperatura è proporzionale all'energia cinetica allora anche la temperatura evolve verso un certo valore, allora è questo valore verso cui evolve il valore da usare per vedere che l distribuzione di velocità è conforme alla Maxwell-Boltzman.\n",
    "- l'evoluzione del sistema va verso una crescita dell'entropia. cosa succede se cambio l'asse temprate al punto di partenza (cioè invertendo le velocità all'inizio)? si ottiene che non cambia niente se si parte da una config a bassa entropia si va verso un aumento di entropia. commentare nel notebook. Questa domanda non richiede di fare delle simulazioni per dimostrare la risposta. "
   ]
  },
  {
   "cell_type": "markdown",
   "metadata": {},
   "source": [
    "### Exercise 04.3\n",
    "\n",
    "Starting from the final state of an **equilibrated** MD simulation of the system in Exercise 04.2, by changing the direction of time (e.g. by inverting the final velocities, i.e. ... ), try to return back to the very low entropic initial configuration of Exercise 04.2. Is this possible? (for example, one can monitor the behavior of the average **potential energy** and the average **temperature** in **each block** as a function of time going **in both directions**. Show some picture and comment on what you find in your jupyter-notebook."
   ]
  },
  {
   "cell_type": "markdown",
   "metadata": {},
   "source": [
    "Note:\n",
    "- quando abbiamo raggiunto la distribuzione di max-boltz invertiamo l'asse dei tempi, invertendo le velocità (l'algoritmo di verlet è simmetrico per inversione temporale, ma non usa le velocità, quindi invertire le velocità deve essere tradotto in un altra cosa). riusciamo a tornare alla config a bassa entropia indietro? per vedere questo possiamo studiare cosa fa la temeratura o l'energia potenziale e vedere se è speculare al moto in andata.\n",
    "Commentare quello che otteniamo "
   ]
  },
  {
   "cell_type": "markdown",
   "metadata": {},
   "source": []
  }
 ],
 "metadata": {
  "kernelspec": {
   "display_name": "Python 3 (ipykernel)",
   "language": "python",
   "name": "python3"
  },
  "language_info": {
   "codemirror_mode": {
    "name": "ipython",
    "version": 3
   },
   "file_extension": ".py",
   "mimetype": "text/x-python",
   "name": "python",
   "nbconvert_exporter": "python",
   "pygments_lexer": "ipython3",
   "version": "3.9.13"
  }
 },
 "nbformat": 4,
 "nbformat_minor": 2
}
